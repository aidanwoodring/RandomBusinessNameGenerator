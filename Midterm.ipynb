{
  "nbformat": 4,
  "nbformat_minor": 0,
  "metadata": {
    "colab": {
      "provenance": [],
      "authorship_tag": "ABX9TyN0EJcf/4slEiP4p6Wum5Wa",
      "include_colab_link": true
    },
    "kernelspec": {
      "name": "python3",
      "display_name": "Python 3"
    },
    "language_info": {
      "name": "python"
    }
  },
  "cells": [
    {
      "cell_type": "markdown",
      "metadata": {
        "id": "view-in-github",
        "colab_type": "text"
      },
      "source": [
        "<a href=\"https://colab.research.google.com/github/aidanwoodring/RandomBusinessNameGenerator/blob/main/Midterm.ipynb\" target=\"_parent\"><img src=\"https://colab.research.google.com/assets/colab-badge.svg\" alt=\"Open In Colab\"/></a>"
      ]
    },
    {
      "cell_type": "code",
      "source": [
        "import pandas as pd\n",
        "import numpy as np"
      ],
      "metadata": {
        "id": "rBlXevQ8zP9L"
      },
      "execution_count": null,
      "outputs": []
    },
    {
      "cell_type": "code",
      "source": [
        "amazon_titles = pd.read_csv(\"amazon_prime_titles1.csv\")"
      ],
      "metadata": {
        "id": "SpZIMbAyqHNU"
      },
      "execution_count": null,
      "outputs": []
    },
    {
      "cell_type": "code",
      "source": [
        "titles = pd.concat([amazon_titles], axis = 0).reset_index()\n",
        "titles.drop(['index'], axis=1, inplace=True)"
      ],
      "metadata": {
        "id": "icH5ELWPrIOP"
      },
      "execution_count": null,
      "outputs": []
    },
    {
      "cell_type": "code",
      "source": [
        "titles[titles.duplicated() == True].head(5)"
      ],
      "metadata": {
        "id": "gGvQfd5prh24",
        "colab": {
          "base_uri": "https://localhost:8080/",
          "height": 113
        },
        "outputId": "1ba92820-81de-4875-9bef-8a84291039da"
      },
      "execution_count": null,
      "outputs": [
        {
          "output_type": "execute_result",
          "data": {
            "text/plain": [
              "Empty DataFrame\n",
              "Columns: [id, title, type, description, release_year, age_certification, runtime, genres, production_countries, seasons, imdb_id, imdb_score, imdb_votes, tmdb_popularity, tmdb_score]\n",
              "Index: []"
            ],
            "text/html": [
              "\n",
              "  <div id=\"df-254070a6-3658-4dce-b78c-70bdf0bfa879\">\n",
              "    <div class=\"colab-df-container\">\n",
              "      <div>\n",
              "<style scoped>\n",
              "    .dataframe tbody tr th:only-of-type {\n",
              "        vertical-align: middle;\n",
              "    }\n",
              "\n",
              "    .dataframe tbody tr th {\n",
              "        vertical-align: top;\n",
              "    }\n",
              "\n",
              "    .dataframe thead th {\n",
              "        text-align: right;\n",
              "    }\n",
              "</style>\n",
              "<table border=\"1\" class=\"dataframe\">\n",
              "  <thead>\n",
              "    <tr style=\"text-align: right;\">\n",
              "      <th></th>\n",
              "      <th>id</th>\n",
              "      <th>title</th>\n",
              "      <th>type</th>\n",
              "      <th>description</th>\n",
              "      <th>release_year</th>\n",
              "      <th>age_certification</th>\n",
              "      <th>runtime</th>\n",
              "      <th>genres</th>\n",
              "      <th>production_countries</th>\n",
              "      <th>seasons</th>\n",
              "      <th>imdb_id</th>\n",
              "      <th>imdb_score</th>\n",
              "      <th>imdb_votes</th>\n",
              "      <th>tmdb_popularity</th>\n",
              "      <th>tmdb_score</th>\n",
              "    </tr>\n",
              "  </thead>\n",
              "  <tbody>\n",
              "  </tbody>\n",
              "</table>\n",
              "</div>\n",
              "      <button class=\"colab-df-convert\" onclick=\"convertToInteractive('df-254070a6-3658-4dce-b78c-70bdf0bfa879')\"\n",
              "              title=\"Convert this dataframe to an interactive table.\"\n",
              "              style=\"display:none;\">\n",
              "        \n",
              "  <svg xmlns=\"http://www.w3.org/2000/svg\" height=\"24px\"viewBox=\"0 0 24 24\"\n",
              "       width=\"24px\">\n",
              "    <path d=\"M0 0h24v24H0V0z\" fill=\"none\"/>\n",
              "    <path d=\"M18.56 5.44l.94 2.06.94-2.06 2.06-.94-2.06-.94-.94-2.06-.94 2.06-2.06.94zm-11 1L8.5 8.5l.94-2.06 2.06-.94-2.06-.94L8.5 2.5l-.94 2.06-2.06.94zm10 10l.94 2.06.94-2.06 2.06-.94-2.06-.94-.94-2.06-.94 2.06-2.06.94z\"/><path d=\"M17.41 7.96l-1.37-1.37c-.4-.4-.92-.59-1.43-.59-.52 0-1.04.2-1.43.59L10.3 9.45l-7.72 7.72c-.78.78-.78 2.05 0 2.83L4 21.41c.39.39.9.59 1.41.59.51 0 1.02-.2 1.41-.59l7.78-7.78 2.81-2.81c.8-.78.8-2.07 0-2.86zM5.41 20L4 18.59l7.72-7.72 1.47 1.35L5.41 20z\"/>\n",
              "  </svg>\n",
              "      </button>\n",
              "      \n",
              "  <style>\n",
              "    .colab-df-container {\n",
              "      display:flex;\n",
              "      flex-wrap:wrap;\n",
              "      gap: 12px;\n",
              "    }\n",
              "\n",
              "    .colab-df-convert {\n",
              "      background-color: #E8F0FE;\n",
              "      border: none;\n",
              "      border-radius: 50%;\n",
              "      cursor: pointer;\n",
              "      display: none;\n",
              "      fill: #1967D2;\n",
              "      height: 32px;\n",
              "      padding: 0 0 0 0;\n",
              "      width: 32px;\n",
              "    }\n",
              "\n",
              "    .colab-df-convert:hover {\n",
              "      background-color: #E2EBFA;\n",
              "      box-shadow: 0px 1px 2px rgba(60, 64, 67, 0.3), 0px 1px 3px 1px rgba(60, 64, 67, 0.15);\n",
              "      fill: #174EA6;\n",
              "    }\n",
              "\n",
              "    [theme=dark] .colab-df-convert {\n",
              "      background-color: #3B4455;\n",
              "      fill: #D2E3FC;\n",
              "    }\n",
              "\n",
              "    [theme=dark] .colab-df-convert:hover {\n",
              "      background-color: #434B5C;\n",
              "      box-shadow: 0px 1px 3px 1px rgba(0, 0, 0, 0.15);\n",
              "      filter: drop-shadow(0px 1px 2px rgba(0, 0, 0, 0.3));\n",
              "      fill: #FFFFFF;\n",
              "    }\n",
              "  </style>\n",
              "\n",
              "      <script>\n",
              "        const buttonEl =\n",
              "          document.querySelector('#df-254070a6-3658-4dce-b78c-70bdf0bfa879 button.colab-df-convert');\n",
              "        buttonEl.style.display =\n",
              "          google.colab.kernel.accessAllowed ? 'block' : 'none';\n",
              "\n",
              "        async function convertToInteractive(key) {\n",
              "          const element = document.querySelector('#df-254070a6-3658-4dce-b78c-70bdf0bfa879');\n",
              "          const dataTable =\n",
              "            await google.colab.kernel.invokeFunction('convertToInteractive',\n",
              "                                                     [key], {});\n",
              "          if (!dataTable) return;\n",
              "\n",
              "          const docLinkHtml = 'Like what you see? Visit the ' +\n",
              "            '<a target=\"_blank\" href=https://colab.research.google.com/notebooks/data_table.ipynb>data table notebook</a>'\n",
              "            + ' to learn more about interactive tables.';\n",
              "          element.innerHTML = '';\n",
              "          dataTable['output_type'] = 'display_data';\n",
              "          await google.colab.output.renderOutput(dataTable, element);\n",
              "          const docLink = document.createElement('div');\n",
              "          docLink.innerHTML = docLinkHtml;\n",
              "          element.appendChild(docLink);\n",
              "        }\n",
              "      </script>\n",
              "    </div>\n",
              "  </div>\n",
              "  "
            ]
          },
          "metadata": {},
          "execution_count": 234
        }
      ]
    },
    {
      "cell_type": "code",
      "source": [
        "titles.drop_duplicates(inplace=True)"
      ],
      "metadata": {
        "id": "kj54opLnrou9"
      },
      "execution_count": null,
      "outputs": []
    },
    {
      "cell_type": "code",
      "source": [
        "# For genres\n",
        "titles['genres'] = titles['genres'].str.replace(r'[','').str.replace(r\"'\",'').str.replace(r']','')\n",
        "titles['genre'] = titles['genres'].str.split(',').str[0]\n",
        "\n",
        "# For countries\n",
        "titles['production_countries'] = titles['production_countries'].str.replace(r\"[\", '').str.replace(r\"'\", '').str.replace(r\"]\", '')\n",
        "titles['production_country'] = titles['production_countries'].str.split(',').str[0]\n"
      ],
      "metadata": {
        "id": "a0tBYFFgseV9",
        "colab": {
          "base_uri": "https://localhost:8080/"
        },
        "outputId": "a95785d0-7474-4210-ec5a-7f2812f3a56e"
      },
      "execution_count": null,
      "outputs": [
        {
          "output_type": "stream",
          "name": "stderr",
          "text": [
            "<ipython-input-236-32d98c218ddc>:2: FutureWarning: The default value of regex will change from True to False in a future version. In addition, single character regular expressions will *not* be treated as literal strings when regex=True.\n",
            "  titles['genres'] = titles['genres'].str.replace(r'[','').str.replace(r\"'\",'').str.replace(r']','')\n",
            "<ipython-input-236-32d98c218ddc>:6: FutureWarning: The default value of regex will change from True to False in a future version. In addition, single character regular expressions will *not* be treated as literal strings when regex=True.\n",
            "  titles['production_countries'] = titles['production_countries'].str.replace(r\"[\", '').str.replace(r\"'\", '').str.replace(r\"]\", '')\n"
          ]
        }
      ]
    },
    {
      "cell_type": "code",
      "source": [
        "titles.drop(['genres', 'production_countries'], axis=1, inplace=True)"
      ],
      "metadata": {
        "id": "HwmQqWAW2yfx"
      },
      "execution_count": null,
      "outputs": []
    },
    {
      "cell_type": "code",
      "source": [
        "titles['genre'] = titles['genre'].replace('', np.nan)\n",
        "titles['production_country'] = titles['production_country'].replace('',np.nan)"
      ],
      "metadata": {
        "id": "jQvYB64m32aC"
      },
      "execution_count": null,
      "outputs": []
    },
    {
      "cell_type": "code",
      "source": [
        "titles['seasons'].fillna(0, inplace=True)"
      ],
      "metadata": {
        "id": "6xrkvwHQ32UC"
      },
      "execution_count": null,
      "outputs": []
    },
    {
      "cell_type": "code",
      "source": [
        "titles.drop(['imdb_id','age_certification'], axis=1,inplace=True)"
      ],
      "metadata": {
        "id": "P9-hImxt31__"
      },
      "execution_count": null,
      "outputs": []
    },
    {
      "cell_type": "code",
      "source": [
        "titles.dropna(inplace=True)"
      ],
      "metadata": {
        "id": "OaaJfod55K3w"
      },
      "execution_count": null,
      "outputs": []
    },
    {
      "cell_type": "code",
      "source": [
        "lt = []\n",
        "for i in titles['id']:\n",
        "    movie_streaming = []\n",
        "    if i in amazon_titles['id'].values:\n",
        "        movie_streaming.append('amazon')\n",
        "    lt.append(movie_streaming)"
      ],
      "metadata": {
        "id": "NttgHDY15Lh9"
      },
      "execution_count": null,
      "outputs": []
    },
    {
      "cell_type": "code",
      "source": [
        "titles['streaming_platform'] = lt"
      ],
      "metadata": {
        "id": "gUeGt3eU5La5"
      },
      "execution_count": null,
      "outputs": []
    },
    {
      "cell_type": "code",
      "source": [
        "movies = titles[titles['type'] == 'MOVIE'].copy().reset_index()\n",
        "movies.drop(['index'], axis=1, inplace=True)\n",
        "\n",
        "shows = titles[titles['type'] == 'SHOW'].copy().reset_index()\n",
        "shows.drop(['index'], axis=1, inplace=True)"
      ],
      "metadata": {
        "id": "llotzoBJA4uH"
      },
      "execution_count": null,
      "outputs": []
    },
    {
      "cell_type": "code",
      "source": [
        "def get_title(title,indices):\n",
        "    \"\"\"\n",
        "    Function that gets the 'index searcher' and searches\n",
        "    the user's title index.\n",
        "    \"\"\"\n",
        "    \n",
        "    try:\n",
        "        index = indices[title]\n",
        "    except:\n",
        "        print(\"\\n  Title not found\")\n",
        "        return None\n",
        "\n",
        "    if isinstance(index, np.int64):\n",
        "        return index\n",
        "    \n",
        "    else:\n",
        "        rt = 0\n",
        "        print(\"Select a title: \")\n",
        "        for i in range(len(index)):\n",
        "            print(f\"{i} - {movies['title'].iloc[index[i]]}\", end=' ')\n",
        "            print(f\"({movies['release_year'].iloc[index[i]]})\")\n",
        "        rt = int(input())\n",
        "        return index[rt]"
      ],
      "metadata": {
        "id": "eFvR3PnRBHhR"
      },
      "execution_count": null,
      "outputs": []
    },
    {
      "cell_type": "code",
      "source": [
        "def get_recommendations_movie(title, cosine_sim=cosine_sim_movies):\n",
        "    \"\"\"\n",
        "    A function that takes a movie title as input and prints on the screen\n",
        "    the 10 most similar movies based on the input description.\n",
        "    \"\"\"    \n",
        "    \n",
        "    title = get_title(title, indices_movies)\n",
        "    if title == None:\n",
        "        return \n",
        "    \n",
        "    idx = indices_movies[title]\n",
        "      \n",
        "    print(f\"Title: {movies['title'].iloc[idx]} |  Year: {movies['release_year'].iloc[idx]}\")\n",
        "\n",
        "    print('**' * 40)\n",
        "\n",
        "    # Get the pairwsie similarity scores of all movies with that movie\n",
        "    sim_scores = list(enumerate(cosine_sim[idx]))\n",
        "\n",
        "    # Sort the movies based on the similarity scores\n",
        "    sim_scores = sorted(sim_scores, key=lambda x: x[1], reverse=True)\n",
        "\n",
        "    # Get the scores of the 10 most similar movies\n",
        "    sim_scores = sim_scores[1:11]\n",
        "\n",
        "    # Get the movie indices\n",
        "    movie_indices = [i[0] for i in sim_scores]\n",
        "\n",
        "    print(movies[['title', 'release_year','streaming_platform']].iloc[movie_indices])\n",
        "\n",
        "    print('**' * 40)"
      ],
      "metadata": {
        "id": "7zwy5L3PBHfd"
      },
      "execution_count": null,
      "outputs": []
    },
    {
      "cell_type": "code",
      "source": [
        "def get_recommendations_show(title, cosine_sim=cosine_sim_shows):\n",
        "    \"\"\"\n",
        "    A function that takes a show title as input and prints on the screen\n",
        "    the 10 most similar shows based on the input description.\n",
        "    \"\"\"\n",
        "    \n",
        "    title = get_title(title, indices_shows)\n",
        "    if title == None:\n",
        "        return \n",
        "    \n",
        "    idx = indices_shows[title]\n",
        "\n",
        "    print(f\"Title: {shows['title'].iloc[idx]} | Year: {shows['release_year'].iloc[idx]}\")\n",
        "\n",
        "    print('**' * 40)\n",
        "\n",
        "    # Get the pairwsie similarity scores of all shows with that show\n",
        "    sim_scores = list(enumerate(cosine_sim[idx]))\n",
        "\n",
        "    # Sort the shows based on the similarity scores\n",
        "    sim_scores = sorted(sim_scores, key=lambda x: x[1], reverse=True)\n",
        "\n",
        "    # Get the scores of the 10 most similar shows\n",
        "    sim_scores = sim_scores[1:11]\n",
        "\n",
        "    # Get the show indices\n",
        "    show_indices = [i[0] for i in sim_scores]\n",
        "\n",
        "    print(shows[['title', 'release_year', 'streaming_platform']].iloc[show_indices])\n",
        "\n",
        "    print('**' * 40)"
      ],
      "metadata": {
        "id": "f7jzqwJ5BHdZ"
      },
      "execution_count": null,
      "outputs": []
    },
    {
      "cell_type": "code",
      "source": [
        "get_recommendations_movie('Rocky')"
      ],
      "metadata": {
        "id": "7fA8q6NLBHWG",
        "colab": {
          "base_uri": "https://localhost:8080/"
        },
        "outputId": "8cefd2f8-4d3f-470e-d170-a31469e711ae"
      },
      "execution_count": 252,
      "outputs": [
        {
          "output_type": "stream",
          "name": "stdout",
          "text": [
            "Title: Rocky |  Year: 1976\n",
            "********************************************************************************\n",
            "                        title  release_year streaming_platform\n",
            "3700                    Creed          2015           [amazon]\n",
            "1365                 Rocky IV          1985           [amazon]\n",
            "2002             Rocky Balboa          2006           [amazon]\n",
            "1372                  Rocky V          1990           [amazon]\n",
            "757                  Rocky II          1979           [amazon]\n",
            "1367                Rocky III          1982           [amazon]\n",
            "372          Broadway Limited          1941           [amazon]\n",
            "6361         K.G.F: Chapter 2          2022           [amazon]\n",
            "1263      The Joe Louis Story          1953           [amazon]\n",
            "5001  Hello Guru Prema Kosame          2018           [amazon]\n",
            "********************************************************************************\n"
          ]
        }
      ]
    },
    {
      "cell_type": "code",
      "source": [
        "get_recommendations_movie('The Hungover Games')"
      ],
      "metadata": {
        "id": "gN0YebxWB3DB",
        "colab": {
          "base_uri": "https://localhost:8080/"
        },
        "outputId": "8ffb867e-1ffa-465c-c991-898273d71315"
      },
      "execution_count": 253,
      "outputs": [
        {
          "output_type": "stream",
          "name": "stdout",
          "text": [
            "Title: The Hungover Games |  Year: 2014\n",
            "********************************************************************************\n",
            "                                 title  release_year streaming_platform\n",
            "3516                The Starving Games          2013           [amazon]\n",
            "5076     Improv All Stars: Games Night          2018           [amazon]\n",
            "6128                       Under World          2019           [amazon]\n",
            "1073                 The Blue Gardenia          1953           [amazon]\n",
            "6647  Federica Pellegrini - Underwater          2022           [amazon]\n",
            "6517                          The Hunt          2021           [amazon]\n",
            "2360     Ast√©rix at the Olympic Games          2008           [amazon]\n",
            "4252           Plato's Reality Machine          2015           [amazon]\n",
            "6375                              Dive          2022           [amazon]\n",
            "6978       Mind Games - The Experiment          2023           [amazon]\n",
            "********************************************************************************\n"
          ]
        }
      ]
    },
    {
      "cell_type": "code",
      "source": [
        "get_recommendations_show('This is a Test')"
      ],
      "metadata": {
        "colab": {
          "base_uri": "https://localhost:8080/"
        },
        "id": "PrLhCMmDB3BO",
        "outputId": "03bd71db-9fa6-40fa-b099-94b2fd72954e"
      },
      "execution_count": null,
      "outputs": [
        {
          "output_type": "stream",
          "name": "stdout",
          "text": [
            "\n",
            "  Title not found\n"
          ]
        }
      ]
    },
    {
      "cell_type": "code",
      "source": [
        "get_recommendations_movie('This is a Test')"
      ],
      "metadata": {
        "colab": {
          "base_uri": "https://localhost:8080/"
        },
        "id": "8B7WmyVyB2-6",
        "outputId": "aa42edc4-8a5c-402d-8372-c6417612ad32"
      },
      "execution_count": null,
      "outputs": [
        {
          "output_type": "stream",
          "name": "stdout",
          "text": [
            "\n",
            "  Title not found\n"
          ]
        }
      ]
    }
  ]
}